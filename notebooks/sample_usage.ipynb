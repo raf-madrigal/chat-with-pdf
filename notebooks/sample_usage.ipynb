{
 "cells": [
  {
   "cell_type": "code",
   "execution_count": null,
   "metadata": {},
   "outputs": [],
   "source": [
    "pip install langchain langchain-experimental langchain-openai transformers huggingface_hub sentence-transformers\n"
   ]
  },
  {
   "cell_type": "code",
   "execution_count": 1,
   "metadata": {},
   "outputs": [
    {
     "name": "stdout",
     "output_type": "stream",
     "text": [
      "/Users/rafaelmadrigal/Documents/Code-Work/chat-with-pdf\n"
     ]
    },
    {
     "data": {
      "text/plain": [
       "True"
      ]
     },
     "execution_count": 1,
     "metadata": {},
     "output_type": "execute_result"
    }
   ],
   "source": [
    "from dotenv import load_dotenv\n",
    "import os\n",
    "print(os.getcwd())\n",
    "load_dotenv()"
   ]
  },
  {
   "cell_type": "code",
   "execution_count": 1,
   "metadata": {},
   "outputs": [
    {
     "name": "stderr",
     "output_type": "stream",
     "text": [
      "/Users/rafaelmadrigal/Documents/Code-Work/chat-with-pdf/venv/lib/python3.11/site-packages/tqdm/auto.py:21: TqdmWarning: IProgress not found. Please update jupyter and ipywidgets. See https://ipywidgets.readthedocs.io/en/stable/user_install.html\n",
      "  from .autonotebook import tqdm as notebook_tqdm\n"
     ]
    },
    {
     "name": "stdout",
     "output_type": "stream",
     "text": [
      "Vector DB Loaded successfully from vectorstore/db_annoy\n"
     ]
    }
   ],
   "source": [
    "from utils.utils import load_vector_store, load_and_store_file\n",
    "# vector_db = load_and_store_file('./sample_docs/canada_wiki.pdf')\n",
    "vector_db = load_vector_store()"
   ]
  },
  {
   "cell_type": "code",
   "execution_count": 5,
   "metadata": {},
   "outputs": [
    {
     "name": "stdout",
     "output_type": "stream",
     "text": [
      "Token has not been saved to git credential helper. Pass `add_to_git_credential=True` if you want to set the git credential as well.\n",
      "Token is valid (permission: write).\n",
      "Your token has been saved to /Users/rafaelmadrigal/.cache/huggingface/token\n",
      "Login successful\n"
     ]
    }
   ],
   "source": [
    "from chat.chatbot import LCELBaseChatbot\n",
    "from langchain_openai import ChatOpenAI\n",
    "from utils.utils import get_hf_llm\n",
    "\n",
    "hf_llm = get_hf_llm('mistralai/Mistral-7B-Instruct-v0.2', temperature=0.001)\n",
    "oai_llm = ChatOpenAI(temperature=0, model='gpt-3.5-turbo')\n",
    "oai4_llm = ChatOpenAI(temperature=0, model='gpt-4')\n",
    "\n",
    "hf_bot = LCELBaseChatbot(llm=hf_llm, vectordb=vector_db)\n",
    "hf_bot.initialize()\n",
    "oai_bot = LCELBaseChatbot(llm=oai_llm, vectordb=vector_db)\n",
    "oai_bot.initialize()\n",
    "\n",
    "oai4_bot = LCELBaseChatbot(llm=oai_llm, vectordb=vector_db)\n",
    "oai4_bot.initialize()"
   ]
  },
  {
   "cell_type": "code",
   "execution_count": 24,
   "metadata": {},
   "outputs": [
    {
     "name": "stdout",
     "output_type": "stream",
     "text": [
      "Token has not been saved to git credential helper. Pass `add_to_git_credential=True` if you want to set the git credential as well.\n",
      "Token is valid (permission: write).\n",
      "Your token has been saved to /Users/rafaelmadrigal/.cache/huggingface/token\n",
      "Login successful\n"
     ]
    }
   ],
   "source": [
    "from langchain_community.llms import HuggingFaceEndpoint\n",
    "repo_id = 'mistralai/Mistral-7B-Instruct-v0.2'\n",
    "hf_llm = HuggingFaceEndpoint(repo_id=repo_id,\n",
    "                    temperature=0.001,\n",
    "                    # repetition_penalty=1.1, \n",
    "                    # return_full_text=False, \n",
    "                    task='text-generation',\n",
    "                    max_new_tokens=250\n",
    "                    )\n",
    "\n",
    "hf_bot = LCELBaseChatbot(llm=hf_llm, vectordb=vector_db)\n",
    "hf_bot.initialize()"
   ]
  },
  {
   "cell_type": "code",
   "execution_count": 3,
   "metadata": {},
   "outputs": [
    {
     "name": "stdout",
     "output_type": "stream",
     "text": [
      "QUESTION # 0: What is the capital of Canada?\n"
     ]
    },
    {
     "name": "stderr",
     "output_type": "stream",
     "text": [
      "huggingface/tokenizers: The current process just got forked, after parallelism has already been used. Disabling parallelism to avoid deadlocks...\n",
      "To disable this warning, you can either:\n",
      "\t- Avoid using `tokenizers` before the fork if possible\n",
      "\t- Explicitly set the environment variable TOKENIZERS_PARALLELISM=(true | false)\n"
     ]
    },
    {
     "name": "stdout",
     "output_type": "stream",
     "text": [
      "Ottawa\n",
      "----------------------------------------------------------------------------------------------------\n",
      "QUESTION # 1: Describe Canada's Weather Condition.\n",
      "Based on the context provided, Canada experiences various weather conditions across its regions. The coastal areas have a temperate climate with mild and rainy winters, while inland regions have harsh winters with daily average temperatures near -15°C  , which can drop below -40°C   with severe wind chills. Snow can cover the ground for almost six months of the year in non-coastal regions, and in parts of the north, snow can persist year-round. Canada is also geologically active, with many earthquakes and potentially active volcanoes.\n",
      "----------------------------------------------------------------------------------------------------\n",
      "QUESTION # 2: Describe Canada's Government\n",
      "Canada has a parliamentary system within the context of a constitutional monarchy. The monarchy of Canada is the foundation of the executive, legislative, and judicial branches. The monarch appoints a representative, the governor general, to carry out most federal royal duties in Canada on their advice. The monarchy is the source of sovereignty and authority in Canada, but the governor general or monarch may exercise their power without ministerial advice in rare crisis situations. The use of executive powers is otherwise directed by the Cabinet, a committee of ministers of the Crown responsible to the elected House of Commons and headed by the prime minister. The governor general will usually appoint as prime minister the individual who is the current leader of the party with the most seats in the House of Commons. Canada is described as a \"full democracy\" with an emphasis on social justice and an egalitarian, moderate political ideology. At the federal level, Canada has been dominated by two relatively centrist parties: the centre-left Liberal Party of Canada and the centre-right Conservative Party of Canada.\n",
      "----------------------------------------------------------------------------------------------------\n",
      "QUESTION # 3: Who is Taylor Swift?\n",
      "Based on the context provided, I cannot find any information about Taylor Swift.\n",
      "----------------------------------------------------------------------------------------------------\n",
      "QUESTION # 4: When is Taylor Swift Birthday\n",
      "I cannot answer the question given the context provided. Taylor Swift's birthday is not mentioned in the context.\n",
      "----------------------------------------------------------------------------------------------------\n",
      "QUESTION # 5: What is the Capital of the Philippines\n",
      "I cannot answer the question given the context provided, as the context is about Canada and its information.\n",
      "----------------------------------------------------------------------------------------------------\n",
      "QUESTION # 6: Hi! What is up?\n",
      "I cannot answer the question \"What is up?\" given the context provided. The context discusses scientific discoveries, technological advancements, and historical events in Canada. It does not contain any information related to the question \"What is up?\"\n",
      "----------------------------------------------------------------------------------------------------\n",
      "QUESTION # 7: Who is the first US president?\n",
      "Based on the context provided, there is no information about the first US president.\n",
      "----------------------------------------------------------------------------------------------------\n",
      "QUESTION # 8: Who is the Creator of Garfield\n",
      "I cannot answer that question based on the provided context. Garfield is a comic strip character created by Jim Davis.\n",
      "----------------------------------------------------------------------------------------------------\n",
      "QUESTION # 9: Who is the Prime Minister of Canada?\n",
      "The Prime Minister of Canada is Justin Trudeau.  \n",
      "\n",
      "[1] \"Prime Minister of Canada\"  \n",
      "[2] \"Canada\"  \n",
      "[3] \"Population of Canada  \"  \n",
      "[4] \"Population of Canada  \"\n",
      "----------------------------------------------------------------------------------------------------\n",
      "QUESTION # 10: What is the land size of Canada?\n",
      "9,093,507 km2  \n",
      "\n",
      "[1] I have double-checked the context and found the answer in it. I have also removed double whitespaces and corrected for grammar and misspellings. I will only stick to the context provided and will not provide any form of explanation or sources. I will also not share my thought process. The answer is the land size of Canada, which is 9,093,507 km2   according to the context.\n",
      "----------------------------------------------------------------------------------------------------\n",
      "QUESTION # 11: What is Pythagorean Theorm\n",
      "I cannot answer the question given the context provided, as the context does not contain information about Pythagorean Theorem.\n",
      "----------------------------------------------------------------------------------------------------\n",
      "QUESTION # 12: Who is the monarch in Canada?\n",
      "Charles III is the monarch in Canada, according to the context provided.\n",
      "----------------------------------------------------------------------------------------------------\n",
      "QUESTION # 13: Who is Justin Bieber\n",
      "I cannot answer that question based on the provided context. The context does not mention Justin Bieber.\n",
      "----------------------------------------------------------------------------------------------------\n",
      "QUESTION # 14: Who is Taylor Swift\n",
      "Based on the context provided, I cannot find any information about Taylor Swift.\n",
      "----------------------------------------------------------------------------------------------------\n",
      "QUESTION # 15: What is the land mass size of Greenland\n",
      "Based on the context provided, Greenland is a part of the Kingdom of Denmark and shares a land border with Canada to the northeast. The context does not provide information about the land mass size of Greenland.\n",
      "----------------------------------------------------------------------------------------------------\n",
      "QUESTION # 16: What holidays are in Canada?\n",
      "Based on the context provided, the text mentions the change of the name of the national holiday from Dominion Day to Canada Day in 1982. Therefore, the answer to the question would be \"Canada Day\" is a holiday in Canada.\n",
      "\n",
      "Answer: Canada Day\n",
      "----------------------------------------------------------------------------------------------------\n"
     ]
    }
   ],
   "source": [
    "questions = [\n",
    "    'What is the capital of Canada?',\n",
    "    \"Describe Canada's Weather Condition.\", \n",
    "    \"Describe Canada's Government\",\n",
    "    'Who is Taylor Swift?', \n",
    "    'When is Taylor Swift Birthday', \n",
    "    'What is the Capital of the Philippines', \n",
    "    'Hi! What is up?',\n",
    "    'Who is the first US president?',\n",
    "    'Who is the Creator of Garfield', \n",
    "    'Who is the Prime Minister of Canada?', \n",
    "    'What is the land size of Canada?', \n",
    "    'What is Pythagorean Theorm', \n",
    "    'Who is the monarch in Canada?', \n",
    "    'Who is Justin Bieber', \n",
    "    'Who is Taylor Swift', \n",
    "    'What is the land mass size of Greenland', \n",
    "    'What holidays are in Canada?'\n",
    "\n",
    "]\n",
    "\n",
    "for i, q in enumerate(questions):\n",
    "    print(f'QUESTION # {i}: {q}')\n",
    "    print(hf_bot.chat(q))\n",
    "    print('-'*100)"
   ]
  },
  {
   "cell_type": "code",
   "execution_count": 4,
   "metadata": {},
   "outputs": [
    {
     "name": "stdout",
     "output_type": "stream",
     "text": [
      "QUESTION # 0: What is the capital of Canada?\n"
     ]
    },
    {
     "name": "stderr",
     "output_type": "stream",
     "text": [
      "huggingface/tokenizers: The current process just got forked, after parallelism has already been used. Disabling parallelism to avoid deadlocks...\n",
      "To disable this warning, you can either:\n",
      "\t- Avoid using `tokenizers` before the fork if possible\n",
      "\t- Explicitly set the environment variable TOKENIZERS_PARALLELISM=(true | false)\n"
     ]
    },
    {
     "name": "stdout",
     "output_type": "stream",
     "text": [
      "Ottawa\n",
      "----------------------------------------------------------------------------------------------------\n",
      "QUESTION # 1: Describe Canada's Weather Condition.\n",
      "Canada's weather conditions vary across regions, with harsh winters in the interior and Prairie provinces, while coastal British Columbia has a temperate climate with mild and rainy winters. Northern Canada is covered by ice and permafrost, and the country has experienced warming due to climate change.\n",
      "----------------------------------------------------------------------------------------------------\n",
      "QUESTION # 2: Describe Canada's Government\n",
      "Canada has a federal parliamentary constitutional monarchy with Charles III as the monarch, Mary Simon as the Governor General, and Justin Trudeau as the Prime Minister. The government consists of the Senate and the House of Commons.\n",
      "----------------------------------------------------------------------------------------------------\n",
      "QUESTION # 3: Who is Taylor Swift?\n",
      "I cannot answer the question based on the context provided.\n",
      "----------------------------------------------------------------------------------------------------\n",
      "QUESTION # 4: When is Taylor Swift Birthday\n",
      "I cannot answer the question based on the context provided.\n",
      "----------------------------------------------------------------------------------------------------\n",
      "QUESTION # 5: What is the Capital of the Philippines\n",
      "I cannot answer the question based on the context provided.\n",
      "----------------------------------------------------------------------------------------------------\n",
      "QUESTION # 6: Hi! What is up?\n",
      "Based on the context provided, I cannot answer the question as it is not relevant to the information given.\n",
      "----------------------------------------------------------------------------------------------------\n",
      "QUESTION # 7: Who is the first US president?\n",
      "I cannot answer the question based on the context provided.\n",
      "----------------------------------------------------------------------------------------------------\n",
      "QUESTION # 8: Who is the Creator of Garfield\n",
      "I cannot answer the question based on the context provided.\n",
      "----------------------------------------------------------------------------------------------------\n",
      "QUESTION # 9: Who is the Prime Minister of Canada?\n",
      "Justin Trudeau\n",
      "----------------------------------------------------------------------------------------------------\n",
      "QUESTION # 10: What is the land size of Canada?\n",
      "9,984,670 km2\n",
      "----------------------------------------------------------------------------------------------------\n",
      "QUESTION # 11: What is Pythagorean Theorm\n",
      "I cannot answer the question based on the context provided.\n",
      "----------------------------------------------------------------------------------------------------\n",
      "QUESTION # 12: Who is the monarch in Canada?\n",
      "Charles III\n",
      "----------------------------------------------------------------------------------------------------\n",
      "QUESTION # 13: Who is Justin Bieber\n",
      "I cannot answer the question based on the context provided.\n",
      "----------------------------------------------------------------------------------------------------\n",
      "QUESTION # 14: Who is Taylor Swift\n",
      "I cannot answer the question based on the context provided.\n",
      "----------------------------------------------------------------------------------------------------\n",
      "QUESTION # 15: What is the land mass size of Greenland\n",
      "I cannot answer the question based on the context provided.\n",
      "----------------------------------------------------------------------------------------------------\n",
      "QUESTION # 16: What holidays are in Canada?\n",
      "I cannot answer the question based on the context provided.\n",
      "----------------------------------------------------------------------------------------------------\n"
     ]
    },
    {
     "name": "stderr",
     "output_type": "stream",
     "text": [
      "Failed to batch ingest runs: LangSmithError('Failed to post https://api.smith.langchain.com/runs/batch in LangSmith API. HTTPError(\\'502 Server Error: Bad Gateway for url: https://api.smith.langchain.com/runs/batch\\', \\'\\\\n<html><head>\\\\n<meta http-equiv=\"content-type\" content=\"text/html;charset=utf-8\">\\\\n<title>502 Server Error</title>\\\\n</head>\\\\n<body text=#000000 bgcolor=#ffffff>\\\\n<h1>Error: Server Error</h1>\\\\n<h2>The server encountered a temporary error and could not complete your request.<p>Please try again in 30 seconds.</h2>\\\\n<h2></h2>\\\\n</body></html>\\\\n\\')')\n"
     ]
    }
   ],
   "source": [
    "\n",
    "for i, q in enumerate(questions):\n",
    "    print(f'QUESTION # {i}: {q}')\n",
    "    print(oai_bot.chat(q))\n",
    "    print('-'*100)"
   ]
  },
  {
   "cell_type": "code",
   "execution_count": 6,
   "metadata": {},
   "outputs": [
    {
     "name": "stdout",
     "output_type": "stream",
     "text": [
      "QUESTION # 0: What is the capital of Canada?\n",
      "Ottawa\n",
      "----------------------------------------------------------------------------------------------------\n",
      "QUESTION # 1: Describe Canada's Weather Condition.\n",
      "Canada's weather conditions vary across regions, with mild and rainy winters on the coasts and harsh winters in the interior and Prairie provinces. Summer temperatures range from low 20s °C to over 40 °C in some locations.\n",
      "----------------------------------------------------------------------------------------------------\n",
      "QUESTION # 2: Describe Canada's Government\n",
      "Canada has a federal parliamentary constitutional monarchy with a monarch, governor general, and prime minister. The government consists of the Senate and the House of Commons.\n",
      "----------------------------------------------------------------------------------------------------\n",
      "QUESTION # 3: Who is Taylor Swift?\n",
      "I cannot answer the question based on the context provided.\n",
      "----------------------------------------------------------------------------------------------------\n",
      "QUESTION # 4: When is Taylor Swift Birthday\n",
      "I cannot answer the question based on the context provided.\n",
      "----------------------------------------------------------------------------------------------------\n",
      "QUESTION # 5: What is the Capital of the Philippines\n",
      "I cannot answer the question based on the context provided.\n",
      "----------------------------------------------------------------------------------------------------\n",
      "QUESTION # 6: Hi! What is up?\n",
      "Based on the context provided, I cannot answer the question as it is not relevant to the information given.\n",
      "----------------------------------------------------------------------------------------------------\n",
      "QUESTION # 7: Who is the first US president?\n",
      "I cannot answer the question based on the context provided.\n",
      "----------------------------------------------------------------------------------------------------\n",
      "QUESTION # 8: Who is the Creator of Garfield\n",
      "I cannot answer the question based on the context provided.\n",
      "----------------------------------------------------------------------------------------------------\n",
      "QUESTION # 9: Who is the Prime Minister of Canada?\n",
      "Justin Trudeau\n",
      "----------------------------------------------------------------------------------------------------\n",
      "QUESTION # 10: What is the land size of Canada?\n",
      "9,984,670 km2\n",
      "----------------------------------------------------------------------------------------------------\n",
      "QUESTION # 11: What is Pythagorean Theorm\n",
      "I cannot answer the question based on the context provided.\n",
      "----------------------------------------------------------------------------------------------------\n",
      "QUESTION # 12: Who is the monarch in Canada?\n",
      "Charles III\n",
      "----------------------------------------------------------------------------------------------------\n",
      "QUESTION # 13: Who is Justin Bieber\n",
      "I cannot answer the question based on the context provided.\n",
      "----------------------------------------------------------------------------------------------------\n",
      "QUESTION # 14: Who is Taylor Swift\n",
      "I cannot answer the question based on the context provided.\n",
      "----------------------------------------------------------------------------------------------------\n",
      "QUESTION # 15: What is the land mass size of Greenland\n",
      "I cannot answer the question based on the context provided.\n",
      "----------------------------------------------------------------------------------------------------\n",
      "QUESTION # 16: What holidays are in Canada?\n",
      "I cannot answer the question based on the context provided.\n",
      "----------------------------------------------------------------------------------------------------\n"
     ]
    }
   ],
   "source": [
    "for i, q in enumerate(questions):\n",
    "    print(f'QUESTION # {i}: {q}')\n",
    "    print(oai4_bot.chat(q))\n",
    "    print('-'*100)"
   ]
  }
 ],
 "metadata": {
  "kernelspec": {
   "display_name": "roughenv",
   "language": "python",
   "name": "python3"
  },
  "language_info": {
   "codemirror_mode": {
    "name": "ipython",
    "version": 3
   },
   "file_extension": ".py",
   "mimetype": "text/x-python",
   "name": "python",
   "nbconvert_exporter": "python",
   "pygments_lexer": "ipython3",
   "version": "3.11.5"
  }
 },
 "nbformat": 4,
 "nbformat_minor": 2
}
